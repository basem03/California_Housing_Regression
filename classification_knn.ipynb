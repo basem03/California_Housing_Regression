{
 "cells": [
  {
   "cell_type": "markdown",
   "id": "d7819151",
   "metadata": {},
   "source": [
    "# Classification using K-Nearest Neighbors\n"
   ]
  },
  {
   "cell_type": "markdown",
   "id": "13c13b93",
   "metadata": {},
   "source": [
    "## Importing libraries:"
   ]
  },
  {
   "cell_type": "code",
   "execution_count": 24,
   "id": "c3d94b31",
   "metadata": {},
   "outputs": [],
   "source": [
    "\n",
    "import numpy as np\n",
    "import pandas as pd\n",
    "from sklearn.model_selection import train_test_split\n",
    "from sklearn.preprocessing import StandardScaler\n",
    "from sklearn.neighbors import KNeighborsClassifier\n",
    "from sklearn.metrics import accuracy_score, precision_score, recall_score, f1_score, confusion_matrix, mean_squared_error, mean_absolute_error\n",
    "    "
   ]
  },
  {
   "cell_type": "markdown",
   "id": "29f026ea",
   "metadata": {},
   "source": [
    "## data_preprocessing:"
   ]
  },
  {
   "cell_type": "code",
   "execution_count": 26,
   "id": "d6cdb57d",
   "metadata": {},
   "outputs": [
    {
     "name": "stderr",
     "output_type": "stream",
     "text": [
      "C:\\Users\\MMM\\AppData\\Local\\Temp\\ipykernel_11576\\2477638696.py:9: FutureWarning: Downcasting behavior in `replace` is deprecated and will be removed in a future version. To retain the old behavior, explicitly call `result.infer_objects(copy=False)`. To opt-in to the future behavior, set `pd.set_option('future.no_silent_downcasting', True)`\n",
      "  data['class'] = data['class'].replace({'g': 1, 'h': 0})\n"
     ]
    }
   ],
   "source": [
    "# Import dataset\n",
    "data = pd.read_csv(\"magic04.data\", header=None)\n",
    "\n",
    "# Define column names and assign them to the dataset\n",
    "data.columns = ['fLength', 'fWidth', 'fSize', 'fConc', 'fConc1', 'fAsym', 'fM3Long', \n",
    "                'fM3Trans', 'fAlpha', 'fDist', 'class']\n",
    "\n",
    "# Convert class labels ('g' -> 1, 'h' -> 0)\n",
    "data['class'] = data['class'].replace({'g': 1, 'h': 0})\n",
    "\n",
    "# Balance the dataset by matching the number of gamma and hadron samples\n",
    "num_hadrons = data['class'].value_counts()[0]\n",
    "gamma_samples = data[data['class'] == 1].sample(n=num_hadrons, random_state=42)\n",
    "hadron_samples = data[data['class'] == 0]\n",
    "\n",
    "# Merge and shuffle the balanced dataset\n",
    "data_balanced = pd.concat([gamma_samples, hadron_samples]).sample(frac=1, random_state=42).reset_index(drop=True)\n"
   ]
  },
  {
   "cell_type": "markdown",
   "id": "f329559b",
   "metadata": {},
   "source": [
    "## split_and_standardize_data:"
   ]
  },
  {
   "cell_type": "code",
   "execution_count": 28,
   "id": "ed79f595",
   "metadata": {},
   "outputs": [],
   "source": [
    "# Separate features and target variable\n",
    "X = data_balanced.drop('class', axis=1)\n",
    "y = data_balanced['class']\n",
    "\n",
    "# Split data into training and temporary sets (for validation and testing)\n",
    "X_train, X_temp, y_train, y_temp = train_test_split(X, y, test_size=0.3, random_state=42)\n",
    "\n",
    "# Further split the temporary set equally into validation and test sets\n",
    "X_val, X_test, y_val, y_test = train_test_split(X_temp, y_temp, test_size=0.5, random_state=42)\n",
    "\n",
    "# Normalize feature values using standardization\n",
    "scaler = StandardScaler()\n",
    "X_train = scaler.fit_transform(X_train)\n",
    "X_val = scaler.transform(X_val)\n",
    "X_test = scaler.transform(X_test)\n"
   ]
  },
  {
   "cell_type": "markdown",
   "id": "ae1371db",
   "metadata": {},
   "source": [
    "## knn_evaluation:"
   ]
  },
  {
   "cell_type": "code",
   "execution_count": 30,
   "id": "68455e1f",
   "metadata": {},
   "outputs": [],
   "source": [
    "# Evaluate K-NN Classifier for Different Values of K\n",
    "k_range = range(1, 21)\n",
    "performance_metrics = []\n",
    "\n",
    "for k in k_range:\n",
    "    model = KNeighborsClassifier(n_neighbors=k)\n",
    "    model.fit(X_train, y_train)\n",
    "    predictions = model.predict(X_val)\n",
    "    \n",
    "    performance_metrics.append({\n",
    "        \"k\": k,\n",
    "        \"accuracy\": accuracy_score(y_val, predictions),\n",
    "        \"precision\": precision_score(y_val, predictions),\n",
    "        \"recall\": recall_score(y_val, predictions),\n",
    "        \"f1_score\": f1_score(y_val, predictions)\n",
    "    })\n"
   ]
  },
  {
   "cell_type": "markdown",
   "id": "93fc51b4",
   "metadata": {},
   "source": [
    "## selecting_best_k:"
   ]
  },
  {
   "cell_type": "code",
   "execution_count": 32,
   "id": "a8b9256b",
   "metadata": {},
   "outputs": [
    {
     "name": "stdout",
     "output_type": "stream",
     "text": [
      "Optimal k value based on F1-score: 17\n"
     ]
    }
   ],
   "source": [
    "# Determine the Optimal K Value\n",
    "best_k = sorted(performance_metrics, key=lambda x: x[\"f1_score\"], reverse=True)[0][\"k\"]\n",
    "print(f\"Optimal k value based on F1-score: {best_k}\")\n"
   ]
  },
  {
   "cell_type": "markdown",
   "id": "096c44a6",
   "metadata": {},
   "source": [
    "## train_and_evaluate_knn:"
   ]
  },
  {
   "cell_type": "code",
   "execution_count": 34,
   "id": "f44f10d9",
   "metadata": {},
   "outputs": [
    {
     "name": "stdout",
     "output_type": "stream",
     "text": [
      "Test Set Evaluation:\n",
      "Accuracy: 0.804185351270553\n",
      "Precision: 0.7537117903930131\n",
      "Recall: 0.8860369609856262\n",
      "F1 Score: 0.8145351580934403\n",
      "Confusion Matrix: [[751 282]\n",
      " [111 863]]\n",
      "Mean Squared Error: 0.19581464872944693\n",
      "Mean Absolute Error: 0.19581464872944693\n"
     ]
    }
   ],
   "source": [
    "# Train K-NN with the Optimal K and Evaluate on the Test Set\n",
    "optimal_knn = KNeighborsClassifier(n_neighbors=best_k)\n",
    "optimal_knn.fit(X_train, y_train)\n",
    "\n",
    "# Make predictions on the test set\n",
    "y_pred_test = optimal_knn.predict(X_test)\n",
    "\n",
    "# Compute evaluation metrics\n",
    "test_metrics = {\n",
    "    \"Accuracy\": accuracy_score(y_test, y_pred_test),\n",
    "    \"Precision\": precision_score(y_test, y_pred_test),\n",
    "    \"Recall\": recall_score(y_test, y_pred_test),\n",
    "    \"F1 Score\": f1_score(y_test, y_pred_test),\n",
    "    \"Confusion Matrix\": confusion_matrix(y_test, y_pred_test),\n",
    "    \"Mean Squared Error\": mean_squared_error(y_test, y_pred_test),\n",
    "    \"Mean Absolute Error\": mean_absolute_error(y_test, y_pred_test),\n",
    "}\n",
    "\n",
    "# Display test performance metrics\n",
    "print(\"Test Set Evaluation:\")\n",
    "for metric, value in test_metrics.items():\n",
    "    print(f\"{metric}: {value}\")\n"
   ]
  },
  {
   "cell_type": "markdown",
   "id": "300001ef",
   "metadata": {},
   "source": [
    "## Comments on results:"
   ]
  },
  {
   "cell_type": "markdown",
   "id": "df7e2861",
   "metadata": {},
   "source": [
    "# Accuracy (80.4%) – The model correctly predicts about 80% of the test samples.\n",
    "# Precision (75.4%) – When the model predicts a positive class (gamma), it's correct 75.4% of the time.\n",
    "# Recall (88.6%) – The model successfully detects 88.6% of the actual positive cases, meaning it has a strong ability to find gamma samples.\n",
    "# F1 Score (81.5%) – A balanced measure of precision and recall, indicating solid performance.\n",
    "# Confusion Matrix – Shows that there are 282 false positives and 111 false negatives, suggesting the model is slightly biased toward classifying more gamma cases.\n",
    "# MSE & MAE (~0.196) – Both errors are relatively low, reinforcing that predictions are fairly accurate."
   ]
  }
 ],
 "metadata": {
  "kernelspec": {
   "display_name": "Python [conda env:base] *",
   "language": "python",
   "name": "conda-base-py"
  },
  "language_info": {
   "codemirror_mode": {
    "name": "ipython",
    "version": 3
   },
   "file_extension": ".py",
   "mimetype": "text/x-python",
   "name": "python",
   "nbconvert_exporter": "python",
   "pygments_lexer": "ipython3",
   "version": "3.12.4"
  }
 },
 "nbformat": 4,
 "nbformat_minor": 5
}

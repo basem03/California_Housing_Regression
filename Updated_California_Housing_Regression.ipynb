{
 "cells": [
  {
   "cell_type": "markdown",
   "id": "20f2ca20",
   "metadata": {},
   "source": [
    "# California Housing Price Prediction \n",
    "**Linear Regression, Lasso Regression, and Ridge Regression** "
   ]
  },
  {
   "cell_type": "markdown",
   "id": "41967ca1",
   "metadata": {},
   "source": [
    "## 1. Import Required Libraries"
   ]
  },
  {
   "cell_type": "code",
   "execution_count": 28,
   "id": "f0558946",
   "metadata": {},
   "outputs": [],
   "source": [
    "\n",
    "import pandas as pd\n",
    "import numpy as np\n",
    "import matplotlib.pyplot as plt\n",
    "import seaborn as sns\n",
    "from sklearn.model_selection import train_test_split\n",
    "from sklearn.linear_model import LinearRegression, Lasso, Ridge\n",
    "from sklearn.preprocessing import StandardScaler\n",
    "from sklearn.metrics import mean_absolute_error, mean_squared_error, r2_score\n"
   ]
  },
  {
   "cell_type": "markdown",
   "id": "fe6431e8",
   "metadata": {},
   "source": [
    "## 2. Load and Explore the Dataset"
   ]
  },
  {
   "cell_type": "code",
   "execution_count": 30,
   "id": "f31c3e31",
   "metadata": {},
   "outputs": [
    {
     "name": "stdout",
     "output_type": "stream",
     "text": [
      "<class 'pandas.core.frame.DataFrame'>\n",
      "RangeIndex: 20640 entries, 0 to 20639\n",
      "Data columns (total 14 columns):\n",
      " #   Column                    Non-Null Count  Dtype  \n",
      "---  ------                    --------------  -----  \n",
      " 0   Median_House_Value        20640 non-null  float64\n",
      " 1   Median_Income             20640 non-null  float64\n",
      " 2   Median_Age                20640 non-null  int64  \n",
      " 3   Tot_Rooms                 20640 non-null  int64  \n",
      " 4   Tot_Bedrooms              20640 non-null  int64  \n",
      " 5   Population                20640 non-null  int64  \n",
      " 6   Households                20640 non-null  int64  \n",
      " 7   Latitude                  20640 non-null  float64\n",
      " 8   Longitude                 20640 non-null  float64\n",
      " 9   Distance_to_coast         20640 non-null  float64\n",
      " 10  Distance_to_LA            20640 non-null  float64\n",
      " 11  Distance_to_SanDiego      20640 non-null  float64\n",
      " 12  Distance_to_SanJose       20640 non-null  float64\n",
      " 13  Distance_to_SanFrancisco  20640 non-null  float64\n",
      "dtypes: float64(9), int64(5)\n",
      "memory usage: 2.2 MB\n",
      "None\n",
      "       Median_House_Value  Median_Income    Median_Age     Tot_Rooms  \\\n",
      "count        20640.000000   20640.000000  20640.000000  20640.000000   \n",
      "mean        206855.816909       3.870671     28.639486   2635.763081   \n",
      "std         115395.615874       1.899822     12.585558   2181.615252   \n",
      "min          14999.000000       0.499900      1.000000      2.000000   \n",
      "25%         119600.000000       2.563400     18.000000   1447.750000   \n",
      "50%         179700.000000       3.534800     29.000000   2127.000000   \n",
      "75%         264725.000000       4.743250     37.000000   3148.000000   \n",
      "max         500001.000000      15.000100     52.000000  39320.000000   \n",
      "\n",
      "       Tot_Bedrooms    Population    Households      Latitude     Longitude  \\\n",
      "count  20640.000000  20640.000000  20640.000000  20640.000000  20640.000000   \n",
      "mean     537.898014   1425.476744    499.539680     35.631861   -119.569704   \n",
      "std      421.247906   1132.462122    382.329753      2.135952      2.003532   \n",
      "min        1.000000      3.000000      1.000000     32.540000   -124.350000   \n",
      "25%      295.000000    787.000000    280.000000     33.930000   -121.800000   \n",
      "50%      435.000000   1166.000000    409.000000     34.260000   -118.490000   \n",
      "75%      647.000000   1725.000000    605.000000     37.710000   -118.010000   \n",
      "max     6445.000000  35682.000000   6082.000000     41.950000   -114.310000   \n",
      "\n",
      "       Distance_to_coast  Distance_to_LA  Distance_to_SanDiego  \\\n",
      "count       20640.000000    2.064000e+04          2.064000e+04   \n",
      "mean        40509.264883    2.694220e+05          3.981649e+05   \n",
      "std         49140.039160    2.477324e+05          2.894006e+05   \n",
      "min           120.676447    4.205891e+02          4.849180e+02   \n",
      "25%          9079.756762    3.211125e+04          1.594264e+05   \n",
      "50%         20522.019101    1.736675e+05          2.147398e+05   \n",
      "75%         49830.414479    5.271562e+05          7.057954e+05   \n",
      "max        333804.686371    1.018260e+06          1.196919e+06   \n",
      "\n",
      "       Distance_to_SanJose  Distance_to_SanFrancisco  \n",
      "count         20640.000000              20640.000000  \n",
      "mean         349187.551219             386688.422291  \n",
      "std          217149.875026             250122.192316  \n",
      "min             569.448118                456.141313  \n",
      "25%          113119.928682             117395.477505  \n",
      "50%          459758.877000             526546.661701  \n",
      "75%          516946.490963             584552.007907  \n",
      "max          836762.678210             903627.663298  \n",
      "Median_House_Value          0\n",
      "Median_Income               0\n",
      "Median_Age                  0\n",
      "Tot_Rooms                   0\n",
      "Tot_Bedrooms                0\n",
      "Population                  0\n",
      "Households                  0\n",
      "Latitude                    0\n",
      "Longitude                   0\n",
      "Distance_to_coast           0\n",
      "Distance_to_LA              0\n",
      "Distance_to_SanDiego        0\n",
      "Distance_to_SanJose         0\n",
      "Distance_to_SanFrancisco    0\n",
      "dtype: int64\n"
     ]
    }
   ],
   "source": [
    "\n",
    "# Load dataset\n",
    "data = pd.read_csv('California_Houses.csv')  \n",
    "\n",
    "# Display basic information\n",
    "print(data.info())\n",
    "print(data.describe())\n",
    "\n",
    "# Check for missing values\n",
    "print(data.isnull().sum())\n"
   ]
  },
  {
   "cell_type": "markdown",
   "id": "73ab2f45",
   "metadata": {},
   "source": [
    "## 3. Data Preprocessing"
   ]
  },
  {
   "cell_type": "code",
   "execution_count": 32,
   "id": "d78b3da5",
   "metadata": {},
   "outputs": [],
   "source": [
    "\n",
    "# Drop rows with missing values (if any)\n",
    "data = data.dropna()\n",
    "\n",
    "# Define features and target variable\n",
    "X = data.drop(columns=['Median_House_Value'])\n",
    "y = data['Median_House_Value']\n",
    "\n",
    "# Split data into training and testing sets\n",
    "X_train, X_temp, y_train, y_temp = train_test_split(X, y, test_size=0.30, random_state=42)\n",
    "X_val, X_test, y_val, y_test = train_test_split(X_temp, y_temp, test_size=0.50, random_state=42)\n",
    "\n",
    "# Standardize features\n",
    "scaler = StandardScaler()\n",
    "X_train_scaled = scaler.fit_transform(X_train)\n",
    "X_val_scaled = scaler.transform(X_val)\n",
    "X_test_scaled = scaler.transform(X_test)"
   ]
  },
  {
   "cell_type": "markdown",
   "id": "da9a4d95",
   "metadata": {},
   "source": [
    "## 4. Train Linear Regression Model"
   ]
  },
  {
   "cell_type": "code",
   "execution_count": 34,
   "id": "61250ea4",
   "metadata": {},
   "outputs": [
    {
     "name": "stdout",
     "output_type": "stream",
     "text": [
      "Linear Regression Performance:\n",
      "Training Set:\n",
      "  - MAE: 49927.00384503118\n",
      "  - MSE: 4730358742.50004\n",
      "  - R² Score: 0.6469080431646521\n",
      "Validation Set:\n",
      "  - MAE: 50790.060271050934\n",
      "  - MSE: 4907211997.374781\n",
      "  - R² Score: 0.6233241175944966\n",
      "Test Set:\n",
      "  - MAE: 48782.03108085671\n",
      "  - MSE: 4400953150.613741\n",
      "  - R² Score: 0.6671770047345611\n"
     ]
    }
   ],
   "source": [
    "\n",
    "# Train Linear Regression model\n",
    "linear_model = LinearRegression()\n",
    "linear_model.fit(X_train_scaled, y_train)\n",
    "\n",
    "# Predict and evaluate\n",
    "y_pred_linear_train = linear_model.predict(X_train_scaled)\n",
    "y_pred_linear_val = linear_model.predict(X_val_scaled)\n",
    "y_pred_linear_test = linear_model.predict(X_test_scaled)\n",
    "\n",
    "print('Linear Regression Performance:')\n",
    "print('Training Set:')\n",
    "print('  - MAE:', mean_absolute_error(y_train, y_pred_linear_train))\n",
    "print('  - MSE:', mean_squared_error(y_train, y_pred_linear_train))\n",
    "print('  - R² Score:', r2_score(y_train, y_pred_linear_train))\n",
    "print('Validation Set:')\n",
    "print('  - MAE:', mean_absolute_error(y_val, y_pred_linear_val))\n",
    "print('  - MSE:', mean_squared_error(y_val, y_pred_linear_val))\n",
    "print('  - R² Score:', r2_score(y_val, y_pred_linear_val))\n",
    "print('Test Set:')\n",
    "print('  - MAE:', mean_absolute_error(y_test, y_pred_linear_test))\n",
    "print('  - MSE:', mean_squared_error(y_test, y_pred_linear_test))\n",
    "print('  - R² Score:', r2_score(y_test, y_pred_linear_test))"
   ]
  },
  {
   "cell_type": "markdown",
   "id": "0b6f6ef1",
   "metadata": {},
   "source": [
    "## 5. Train Lasso Regression Model"
   ]
  },
  {
   "cell_type": "code",
   "execution_count": 36,
   "id": "acc106ce",
   "metadata": {},
   "outputs": [
    {
     "name": "stdout",
     "output_type": "stream",
     "text": [
      "Lasso Regression Performance:\n",
      "Training Set:\n",
      "  - MAE: 49927.72937227726\n",
      "  - MSE: 4730365753.095632\n",
      "  - R² Score: 0.6469075198671497\n",
      "Validation Set:\n",
      "  - MAE: 50790.82762033131\n",
      "  - MSE: 4907228147.161598\n",
      "  - R² Score: 0.6233228779424898\n",
      "Test Set:\n",
      "  - MAE: 48782.15410025204\n",
      "  - MSE: 4400631541.595689\n",
      "  - R² Score: 0.667201326483289\n"
     ]
    },
    {
     "name": "stderr",
     "output_type": "stream",
     "text": [
      "E:\\Anaconda\\Lib\\site-packages\\sklearn\\linear_model\\_coordinate_descent.py:678: ConvergenceWarning: Objective did not converge. You might want to increase the number of iterations, check the scale of the features or consider increasing regularisation. Duality gap: 2.132e+13, tolerance: 1.936e+10\n",
      "  model = cd_fast.enet_coordinate_descent(\n"
     ]
    }
   ],
   "source": [
    "\n",
    "# Train Lasso Regression model\n",
    "lasso_model = Lasso(alpha=1.0)\n",
    "lasso_model.fit(X_train_scaled, y_train)\n",
    "\n",
    "# Predict and evaluate\n",
    "y_pred_lasso_train = lasso_model.predict(X_train_scaled)\n",
    "y_pred_lasso_val = lasso_model.predict(X_val_scaled)\n",
    "y_pred_lasso_test = lasso_model.predict(X_test_scaled)\n",
    "\n",
    "print('Lasso Regression Performance:')\n",
    "print('Training Set:')\n",
    "print('  - MAE:', mean_absolute_error(y_train, y_pred_lasso_train))\n",
    "print('  - MSE:', mean_squared_error(y_train, y_pred_lasso_train))\n",
    "print('  - R² Score:', r2_score(y_train, y_pred_lasso_train))\n",
    "print('Validation Set:')\n",
    "print('  - MAE:', mean_absolute_error(y_val, y_pred_lasso_val))\n",
    "print('  - MSE:', mean_squared_error(y_val, y_pred_lasso_val))\n",
    "print('  - R² Score:', r2_score(y_val, y_pred_lasso_val))\n",
    "print('Test Set:')\n",
    "print('  - MAE:', mean_absolute_error(y_test, y_pred_lasso_test))\n",
    "print('  - MSE:', mean_squared_error(y_test, y_pred_lasso_test))\n",
    "print('  - R² Score:', r2_score(y_test, y_pred_lasso_test))"
   ]
  },
  {
   "cell_type": "markdown",
   "id": "944e95bb",
   "metadata": {},
   "source": [
    "## 6. Train Ridge Regression Model"
   ]
  },
  {
   "cell_type": "code",
   "execution_count": 38,
   "id": "bcfe68ac",
   "metadata": {},
   "outputs": [
    {
     "name": "stdout",
     "output_type": "stream",
     "text": [
      "Ridge Regression Performance:\n",
      "Training Set:\n",
      "  - MAE: 49930.60200604057\n",
      "  - MSE: 4730387587.217243\n",
      "  - R² Score: 0.6469058900853201\n",
      "Validation Set:\n",
      "  - MAE: 50793.610268198856\n",
      "  - MSE: 4907281049.444644\n",
      "  - R² Score: 0.6233188171816835\n",
      "Test Set:\n",
      "  - MAE: 48784.33026729786\n",
      "  - MSE: 4400540039.597478\n",
      "  - R² Score: 0.6672082463408915\n"
     ]
    }
   ],
   "source": [
    "\n",
    "# Train Ridge Regression model\n",
    "ridge_model = Ridge(alpha=1.0)\n",
    "ridge_model.fit(X_train_scaled, y_train)\n",
    "\n",
    "# Predict and evaluate\n",
    "y_pred_ridge_train = ridge_model.predict(X_train_scaled)\n",
    "y_pred_ridge_val = ridge_model.predict(X_val_scaled)\n",
    "y_pred_ridge_test = ridge_model.predict(X_test_scaled)\n",
    "\n",
    "print('Ridge Regression Performance:')\n",
    "print('Training Set:')\n",
    "print('  - MAE:', mean_absolute_error(y_train, y_pred_ridge_train))\n",
    "print('  - MSE:', mean_squared_error(y_train, y_pred_ridge_train))\n",
    "print('  - R² Score:', r2_score(y_train, y_pred_ridge_train))\n",
    "print('Validation Set:')\n",
    "print('  - MAE:', mean_absolute_error(y_val, y_pred_ridge_val))\n",
    "print('  - MSE:', mean_squared_error(y_val, y_pred_ridge_val))\n",
    "print('  - R² Score:', r2_score(y_val, y_pred_ridge_val))\n",
    "print('Test Set:')\n",
    "print('  - MAE:', mean_absolute_error(y_test, y_pred_ridge_test))\n",
    "print('  - MSE:', mean_squared_error(y_test, y_pred_ridge_test))\n",
    "print('  - R² Score:', r2_score(y_test, y_pred_ridge_test))\n"
   ]
  },
  {
   "cell_type": "markdown",
   "id": "4d04d328",
   "metadata": {},
   "source": [
    "7. Model Comparison\n"
   ]
  },
  {
   "cell_type": "code",
   "execution_count": 40,
   "id": "4ad9e001",
   "metadata": {},
   "outputs": [
    {
     "name": "stdout",
     "output_type": "stream",
     "text": [
      "\n",
      "Model Comparison:\n",
      "------------------\n",
      "The model with the minimum MSE is: Ridge Regression\n",
      "The model with the minimum MAE is: Linear Regression\n",
      "The model with the maximum R² Score is: Ridge Regression\n"
     ]
    }
   ],
   "source": [
    "# Compare models based on Test Set performance\n",
    "models_mse = {\n",
    "    \"Linear Regression\": mean_squared_error(y_test, y_pred_linear_test),\n",
    "    \"Lasso Regression\": mean_squared_error(y_test, y_pred_lasso_test),\n",
    "    \"Ridge Regression\": mean_squared_error(y_test, y_pred_ridge_test)\n",
    "}\n",
    "\n",
    "models_mae = {\n",
    "    \"Linear Regression\": mean_absolute_error(y_test, y_pred_linear_test),\n",
    "    \"Lasso Regression\": mean_absolute_error(y_test, y_pred_lasso_test),\n",
    "    \"Ridge Regression\": mean_absolute_error(y_test, y_pred_ridge_test)\n",
    "}\n",
    "\n",
    "models_r2 = {\n",
    "    \"Linear Regression\": r2_score(y_test, y_pred_linear_test),\n",
    "    \"Lasso Regression\": r2_score(y_test, y_pred_lasso_test),\n",
    "    \"Ridge Regression\": r2_score(y_test, y_pred_ridge_test)\n",
    "}\n",
    "\n",
    "# Identify the best model for each metric\n",
    "min_mse_model = min(models_mse, key=models_mse.get)\n",
    "min_mae_model = min(models_mae, key=models_mae.get)\n",
    "max_r2_model = max(models_r2, key=models_r2.get)\n",
    "\n",
    "print('\\nModel Comparison:')\n",
    "print('------------------')\n",
    "print(f\"The model with the minimum MSE is: {min_mse_model}\")\n",
    "print(f\"The model with the minimum MAE is: {min_mae_model}\")\n",
    "print(f\"The model with the maximum R² Score is: {max_r2_model}\")"
   ]
  },
  {
   "cell_type": "markdown",
   "id": "639ea49f",
   "metadata": {},
   "source": [
    " 8. Comments on Results"
   ]
  },
  {
   "cell_type": "code",
   "execution_count": 42,
   "id": "9d4c65c9",
   "metadata": {},
   "outputs": [
    {
     "name": "stdout",
     "output_type": "stream",
     "text": [
      "\n",
      "Analysis of Results:\n",
      "1. **Error Metrics**: The models exhibit comparable performance on the test set, with minor differences in MSE, MAE, and R² Score.\n",
      "2. **Effect of Regularization**: Lasso and Ridge Regression offer little advantage over Linear Regression, indicating that overfitting is not a major concern.\n",
      "3. **Model Selection**: Linear Regression is preferred due to its simplicity and similar performance. Regularization techniques (Lasso/Ridge) do not provide significant gains in this scenario.\n",
      "4. **Feature Scaling Influence**: Standardizing the features enhanced model performance, particularly for Lasso and Ridge Regression, which are sensitive to feature scaling.\n",
      "5. **Convergence Issue**: The Lasso Regression model required an increase in `max_iter` to achieve convergence, emphasizing the need for proper hyperparameter tuning.\n"
     ]
    }
   ],
   "source": [
    "print('\\nAnalysis of Results:')\n",
    "print('1. **Error Metrics**: The models exhibit comparable performance on the test set, with minor differences in MSE, MAE, and R² Score.')\n",
    "print('2. **Effect of Regularization**: Lasso and Ridge Regression offer little advantage over Linear Regression, indicating that overfitting is not a major concern.')\n",
    "print('3. **Model Selection**: Linear Regression is preferred due to its simplicity and similar performance. Regularization techniques (Lasso/Ridge) do not provide significant gains in this scenario.')\n",
    "print('4. **Feature Scaling Influence**: Standardizing the features enhanced model performance, particularly for Lasso and Ridge Regression, which are sensitive to feature scaling.')\n",
    "print('5. **Convergence Issue**: The Lasso Regression model required an increase in `max_iter` to achieve convergence, emphasizing the need for proper hyperparameter tuning.')\n"
   ]
  }
 ],
 "metadata": {
  "kernelspec": {
   "display_name": "Python [conda env:base] *",
   "language": "python",
   "name": "conda-base-py"
  },
  "language_info": {
   "codemirror_mode": {
    "name": "ipython",
    "version": 3
   },
   "file_extension": ".py",
   "mimetype": "text/x-python",
   "name": "python",
   "nbconvert_exporter": "python",
   "pygments_lexer": "ipython3",
   "version": "3.12.4"
  }
 },
 "nbformat": 4,
 "nbformat_minor": 5
}
